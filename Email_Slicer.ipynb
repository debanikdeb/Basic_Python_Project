{
 "cells": [
  {
   "cell_type": "markdown",
   "id": "f4c9c53b",
   "metadata": {},
   "source": [
    "# Importing  Necessary Libraries"
   ]
  },
  {
   "cell_type": "code",
   "execution_count": 1,
   "id": "b14cc64b",
   "metadata": {},
   "outputs": [],
   "source": [
    "import pandas as pd\n",
    "from pathlib import Path\n",
    "import warnings\n",
    "import matplotlib.pyplot as plt\n",
    "import seaborn as sns\n",
    "import numpy as np"
   ]
  },
  {
   "cell_type": "markdown",
   "id": "66cf5683",
   "metadata": {},
   "source": [
    "# Creating the Class for Email Slicer"
   ]
  },
  {
   "cell_type": "code",
   "execution_count": 2,
   "id": "8761bd29",
   "metadata": {},
   "outputs": [],
   "source": [
    "class EmailManager:\n",
    "    \n",
    "    def __init__(self, data_path):\n",
    "        self.data_path = Path(data_path)\n",
    "        self.emails = {}"
   ]
  },
  {
   "cell_type": "markdown",
   "id": "970d2caa",
   "metadata": {},
   "source": [
    "# Function to add different parts of Email"
   ]
  },
  {
   "cell_type": "code",
   "execution_count": 3,
   "id": "677c685c",
   "metadata": {},
   "outputs": [],
   "source": [
    "class EmailManager:\n",
    "    \n",
    "    def add_email(self, email_id, email_subject, email_date, email_time, folder):\n",
    "        self.emails[email_id] = {'Subject': email_subject, 'Date': email_date, 'Time': email_time, 'Folder': folder}"
   ]
  },
  {
   "cell_type": "markdown",
   "id": "617c47c1",
   "metadata": {},
   "source": [
    "# Function to Save Email to a CSV File"
   ]
  },
  {
   "cell_type": "code",
   "execution_count": 4,
   "id": "9d9fa620",
   "metadata": {},
   "outputs": [],
   "source": [
    "class EmailManager: \n",
    "    \n",
    "    def save_emails(self):\n",
    "        try:\n",
    "            self.data_path.mkdir(parents=True, exist_ok=True)\n",
    "\n",
    "            folder_files = {}\n",
    "            \n",
    "            for folder, emails in self.group_emails_by_folder().items():\n",
    "                folder_path = self.data_path / folder\n",
    "                folder_path.mkdir(parents=True, exist_ok=True)\n",
    "\n",
    "                file_name = folder + \"_emails.csv\"\n",
    "                file_path = folder_path / file_name\n",
    "\n",
    "                df = pd.DataFrame(emails)\n",
    "                df.to_csv(file_path, index=False)\n",
    "\n",
    "                folder_files[folder] = file_path\n",
    "\n",
    "            # Merge CSV files into a single file\n",
    "            merged_df = pd.concat(pd.read_csv(file) for file in folder_files.values())\n",
    "            merged_file_path = self.data_path / \"email_data.csv\"\n",
    "            merged_df.to_csv(merged_file_path, index=False)\n",
    "\n",
    "            return merged_df\n",
    "\n",
    "        except Exception as e:\n",
    "            print(\"An error occurred:\", str(e))\n"
   ]
  },
  {
   "cell_type": "markdown",
   "id": "71a97a5e",
   "metadata": {},
   "source": [
    "# Function to Group Emails by Different Folders"
   ]
  },
  {
   "cell_type": "code",
   "execution_count": 5,
   "id": "b6603523",
   "metadata": {},
   "outputs": [],
   "source": [
    "class EmailManager:   \n",
    "    \n",
    "    def group_emails_by_folder(self):\n",
    "        grouped_emails = {}\n",
    "        for email_id, email_data in self.emails.items():\n",
    "            folder = email_data['Folder']\n",
    "            \n",
    "            if folder in grouped_emails:\n",
    "                grouped_emails[folder].append({\n",
    "                    'EmailID': email_id,\n",
    "                    'Subject': email_data['Subject'],\n",
    "                    'Date': email_data['Date'],\n",
    "                    'Time': email_data['Time']\n",
    "                })\n",
    "            \n",
    "            else:\n",
    "                \n",
    "                grouped_emails[folder] = [{\n",
    "                    'EmailID': email_id,\n",
    "                    'Subject': email_data['Subject'],\n",
    "                    'Date': email_data['Date'],\n",
    "                    'Time': email_data['Time']\n",
    "                }]\n",
    "        \n",
    "        return grouped_emails"
   ]
  },
  {
   "cell_type": "markdown",
   "id": "718e54a3",
   "metadata": {},
   "source": [
    "# Usage Example"
   ]
  },
  {
   "cell_type": "code",
   "execution_count": 6,
   "id": "618ba3aa",
   "metadata": {},
   "outputs": [
    {
     "name": "stdout",
     "output_type": "stream",
     "text": [
      "Please enter the necessary details of the Emails below.\n",
      "Enter the folder name (inbox, spam, important, social, starred): \n",
      "Enter the email ID: debanik.dev@gmail.com\n",
      "Enter the email subject: kkk\n",
      "Enter the email date: 12/4/23\n",
      "Enter the email time: 4:05 am\n",
      "Do you want to add another email? (yes/no): yes\n",
      "Enter the email ID: ll\n",
      "Enter the email subject: kk\n",
      "Enter the email date: 4/5/23\n",
      "Enter the email time: 2:02 am\n",
      "Do you want to add another email? (yes/no): no\n",
      "Thank you for entering the Emails.\n",
      "Do you want to enter another folder? (yes/no): no\n",
      "                 EmailID Subject     Date     Time\n",
      "0  debanik.dev@gmail.com     kkk  12/4/23  4:05 am\n",
      "1                     ll      kk   4/5/23  2:02 am\n",
      "Emails saved successfully!\n",
      "Email Slicing Operation is done.\n"
     ]
    }
   ],
   "source": [
    "#defining the EmailManager class once again for usage example\n",
    "\n",
    "class EmailManager:\n",
    "    \n",
    "    def __init__(self, data_path):\n",
    "        self.data_path = Path(data_path)\n",
    "        self.emails = {}\n",
    "\n",
    "    def add_email(self, email_id, email_subject, email_date, email_time, folder):\n",
    "        self.emails[email_id] = {\n",
    "            'Subject': email_subject,\n",
    "            'Date': email_date,\n",
    "            'Time': email_time,\n",
    "            'Folder': folder\n",
    "        }\n",
    "\n",
    "    def save_emails(self):\n",
    "        try:\n",
    "            self.data_path.mkdir(parents=True, exist_ok=True)\n",
    "\n",
    "            folder_files = {}\n",
    "            for folder, emails in self.group_emails_by_folder().items():\n",
    "                folder_path = self.data_path / folder\n",
    "                folder_path.mkdir(parents=True, exist_ok=True)\n",
    "\n",
    "                file_name = folder + \"_emails.csv\"\n",
    "                file_path = folder_path / file_name\n",
    "\n",
    "                df = pd.DataFrame(emails)\n",
    "                df.to_csv(file_path, index=False)\n",
    "\n",
    "                folder_files[folder] = file_path\n",
    "\n",
    "            # Merge CSV files into a single file\n",
    "            merged_df = pd.concat(pd.read_csv(file) for file in folder_files.values())\n",
    "            merged_file_path = self.data_path / \"email_data.csv\"\n",
    "            merged_df.to_csv(merged_file_path, index=False)\n",
    "\n",
    "            return merged_df\n",
    "\n",
    "        except Exception as e:\n",
    "            print(\"An error occurred:\", str(e))\n",
    "\n",
    "    def group_emails_by_folder(self):\n",
    "        grouped_emails = {}\n",
    "        for email_id, email_data in self.emails.items():\n",
    "            folder = email_data['Folder']\n",
    "            if folder in grouped_emails:\n",
    "                grouped_emails[folder].append({\n",
    "                    'EmailID': email_id,\n",
    "                    'Subject': email_data['Subject'],\n",
    "                    'Date': email_data['Date'],\n",
    "                    'Time': email_data['Time']\n",
    "                })\n",
    "            else:\n",
    "                grouped_emails[folder] = [{\n",
    "                    'EmailID': email_id,\n",
    "                    'Subject': email_data['Subject'],\n",
    "                    'Date': email_data['Date'],\n",
    "                    'Time': email_data['Time']\n",
    "                }]\n",
    "        return grouped_emails\n",
    "\n",
    "    \n",
    "#Usage Example\n",
    "\n",
    "if __name__ == \"__main__\":\n",
    "    warnings.simplefilter(action='ignore', category=FutureWarning)\n",
    "\n",
    "    try:\n",
    "        data_path = \"C:/Users/DEBANIK DEB/Desktop/DS Courseworks/Programming/Python Programming/Email Slicer Project\"\n",
    "        manager = EmailManager(data_path=data_path)\n",
    "        print(\"Please enter the necessary details of the Emails below.\")\n",
    "\n",
    "        while True:\n",
    "            folder = input(\"Enter the folder name (inbox, spam, important, social, starred): \")\n",
    "\n",
    "            while True:\n",
    "                email_id = input(\"Enter the email ID: \")\n",
    "                email_subject = input(\"Enter the email subject: \")\n",
    "                email_date = input(\"Enter the email date: \")\n",
    "                email_time = input(\"Enter the email time: \")\n",
    "\n",
    "                manager.add_email(email_id, email_subject, email_date, email_time, folder)\n",
    "\n",
    "                choice = input(\"Do you want to add another email? (yes/no): \")\n",
    "                if choice.lower() == \"no\":\n",
    "                    print(\"Thank you for entering the Emails.\")\n",
    "                    break\n",
    "\n",
    "            folder_choice = input(\"Do you want to enter another folder? (yes/no): \")\n",
    "            if folder_choice.lower() == \"no\":\n",
    "                break\n",
    "\n",
    "        merged_df = manager.save_emails()\n",
    "\n",
    "        if merged_df is not None:\n",
    "            print(merged_df.head())\n",
    "\n",
    "    except Exception as e:\n",
    "        print(\"An error occurred:\", str(e))\n",
    "\n",
    "    finally:\n",
    "        print(\"Emails saved successfully!\")\n",
    "\n",
    "print(\"Email Slicing Operation is done.\")\n"
   ]
  },
  {
   "cell_type": "markdown",
   "id": "d6549ff1",
   "metadata": {},
   "source": [
    "# The New Dataset"
   ]
  },
  {
   "cell_type": "code",
   "execution_count": 7,
   "id": "eb8b4f68",
   "metadata": {},
   "outputs": [
    {
     "data": {
      "text/html": [
       "<div>\n",
       "<style scoped>\n",
       "    .dataframe tbody tr th:only-of-type {\n",
       "        vertical-align: middle;\n",
       "    }\n",
       "\n",
       "    .dataframe tbody tr th {\n",
       "        vertical-align: top;\n",
       "    }\n",
       "\n",
       "    .dataframe thead th {\n",
       "        text-align: right;\n",
       "    }\n",
       "</style>\n",
       "<table border=\"1\" class=\"dataframe\">\n",
       "  <thead>\n",
       "    <tr style=\"text-align: right;\">\n",
       "      <th></th>\n",
       "      <th>EmailID</th>\n",
       "      <th>Subject</th>\n",
       "      <th>Date</th>\n",
       "      <th>Time</th>\n",
       "    </tr>\n",
       "  </thead>\n",
       "  <tbody>\n",
       "    <tr>\n",
       "      <th>0</th>\n",
       "      <td>debanik.dev@gmail.com</td>\n",
       "      <td>kkk</td>\n",
       "      <td>12/4/23</td>\n",
       "      <td>4:05 am</td>\n",
       "    </tr>\n",
       "    <tr>\n",
       "      <th>1</th>\n",
       "      <td>ll</td>\n",
       "      <td>kk</td>\n",
       "      <td>4/5/23</td>\n",
       "      <td>2:02 am</td>\n",
       "    </tr>\n",
       "  </tbody>\n",
       "</table>\n",
       "</div>"
      ],
      "text/plain": [
       "                 EmailID Subject     Date     Time\n",
       "0  debanik.dev@gmail.com     kkk  12/4/23  4:05 am\n",
       "1                     ll      kk   4/5/23  2:02 am"
      ]
     },
     "execution_count": 7,
     "metadata": {},
     "output_type": "execute_result"
    }
   ],
   "source": [
    "merged_df"
   ]
  },
  {
   "cell_type": "code",
   "execution_count": 8,
   "id": "abb18a19",
   "metadata": {},
   "outputs": [
    {
     "data": {
      "text/plain": [
       "(2, 4)"
      ]
     },
     "execution_count": 8,
     "metadata": {},
     "output_type": "execute_result"
    }
   ],
   "source": [
    "merged_df.shape"
   ]
  },
  {
   "cell_type": "code",
   "execution_count": 9,
   "id": "4bb48ebe",
   "metadata": {},
   "outputs": [
    {
     "data": {
      "text/plain": [
       "Index(['EmailID', 'Subject', 'Date', 'Time'], dtype='object')"
      ]
     },
     "execution_count": 9,
     "metadata": {},
     "output_type": "execute_result"
    }
   ],
   "source": [
    "merged_df.columns"
   ]
  },
  {
   "cell_type": "markdown",
   "id": "15029320",
   "metadata": {},
   "source": [
    "# Countplot of Date & Email IDs"
   ]
  },
  {
   "cell_type": "code",
   "execution_count": 24,
   "id": "42005bd2",
   "metadata": {},
   "outputs": [
    {
     "data": {
      "text/plain": [
       "<AxesSubplot:xlabel='Date', ylabel='count'>"
      ]
     },
     "execution_count": 24,
     "metadata": {},
     "output_type": "execute_result"
    },
    {
     "data": {
      "image/png": "[encoded data removed]",
      "text/plain": [
       "<Figure size 500x500 with 1 Axes>"
      ]
     },
     "metadata": {},
     "output_type": "display_data"
    }
   ],
   "source": [
    "plt.figure(figsize = (5,5))\n",
    "sns.countplot(x= \"Date\" ,data= merged_df, palette= \"rainbow\")"
   ]
  },
  {
   "cell_type": "code",
   "execution_count": 48,
   "id": "1b37bb8e",
   "metadata": {},
   "outputs": [
    {
     "data": {
      "text/plain": [
       "<AxesSubplot:xlabel='count', ylabel='EmailID'>"
      ]
     },
     "execution_count": 48,
     "metadata": {},
     "output_type": "execute_result"
    },
    {
     "data": {
      "image/png": "[encoded data removed]",
      "text/plain": [
       "<Figure size 500x500 with 1 Axes>"
      ]
     },
     "metadata": {},
     "output_type": "display_data"
    }
   ],
   "source": [
    "plt.figure(figsize = (5,5))\n",
    "sns.countplot(y= \"EmailID\" ,data= merged_df, palette= \"GnBu\")"
   ]
  },
  {
   "cell_type": "code",
   "execution_count": null,
   "id": "d6a6dc4f",
   "metadata": {},
   "outputs": [],
   "source": []
  },
  {
   "cell_type": "code",
   "execution_count": null,
   "id": "1eabafac",
   "metadata": {},
   "outputs": [],
   "source": []
  }
 ],
 "metadata": {
  "kernelspec": {
   "display_name": "Python 3 (ipykernel)",
   "language": "python",
   "name": "python3"
  },
  "language_info": {
   "codemirror_mode": {
    "name": "ipython",
    "version": 3
   },
   "file_extension": ".py",
   "mimetype": "text/x-python",
   "name": "python",
   "nbconvert_exporter": "python",
   "pygments_lexer": "ipython3",
   "version": "3.9.13"
  }
 },
 "nbformat": 4,
 "nbformat_minor": 5
}
